{
 "cells": [
  {
   "cell_type": "code",
   "execution_count": 70,
   "metadata": {},
   "outputs": [],
   "source": [
    "import sys\n",
    "import os\n",
    "import importlib # Used during testing if I need to reload modules\n",
    "\n",
    "import matplotlib.pyplot as plt\n",
    "import numpy as np\n",
    "import cv2\n",
    "import scipy.stats\n",
    "import scipy.signal\n",
    "import pandas as pd"
   ]
  },
  {
   "cell_type": "code",
   "execution_count": 71,
   "metadata": {},
   "outputs": [],
   "source": [
    "try:\n",
    "    import ngif_romar.tools as tools\n",
    "    import ngif_romar.plots.make_plots as plots\n",
    "    import ngif_romar.plots.plots_tools as plots_tools\n",
    "except ModuleNotFoundError as error:\n",
    "    # If not in path/installed, use relative import\n",
    "    module_path = os.path.abspath(os.path.join(\".\"))\n",
    "    sys.path.append(module_path)\n",
    "    import ngif_romar.tools as tools\n",
    "#    import ngif_romar.plots.make_plots as plots\n",
    "#    import ngif_romar.plots.plots_tools as plots_tools"
   ]
  },
  {
   "cell_type": "code",
   "execution_count": 72,
   "metadata": {},
   "outputs": [],
   "source": [
    "dataset_path = os.path.join(\"..\", \"data\", \"SN2\", \"20201001_1739_\")\n",
    "logfile_path = os.path.join(dataset_path, \"Data.dat\")\n",
    "meta_dict, data_df = tools.read_data(logfile_path)\n",
    "data_df = tools.post_process_log_data(data_df)"
   ]
  },
  {
   "cell_type": "code",
   "execution_count": 73,
   "metadata": {},
   "outputs": [
    {
     "data": {
      "text/plain": [
       "0          0\n",
       "1        100\n",
       "2        200\n",
       "3        300\n",
       "4        400\n",
       "        ... \n",
       "12764      0\n",
       "12765      0\n",
       "12766      0\n",
       "12767      0\n",
       "12768      0\n",
       "Name: laser_on_time(ms), Length: 12769, dtype: int64"
      ]
     },
     "execution_count": 73,
     "metadata": {},
     "output_type": "execute_result"
    }
   ],
   "source": [
    "data_df['laser_on_time(ms)']"
   ]
  },
  {
   "cell_type": "code",
   "execution_count": 74,
   "metadata": {},
   "outputs": [],
   "source": [
    "from pca import pca\n",
    "import numpy as np\n",
    "data_df_filtered = data_df[\n",
    "    data_df[\"laser_on_time(ms)\"]>200\n",
    "]\n",
    "vals = data_df_filtered[['meltpoolSize','meltpoolTemp','flowWatch','protectionGlasTemperature']].to_numpy().T # transpose to get column form\n",
    "# columns are meltpoolSize, ..Temp, flowWatch, glasTemp"
   ]
  },
  {
   "cell_type": "code",
   "execution_count": 75,
   "metadata": {},
   "outputs": [
    {
     "name": "stdout",
     "output_type": "stream",
     "text": [
      "[pca] >Column labels are auto-completed.\n",
      "[pca] >Row labels are auto-completed.\n",
      "[pca] >The PCA reduction is performed to capture [95.0%] explained variance using the [11193] columns of the input data.\n",
      "[pca] >Fitting using PCA..\n",
      "[pca] >Computing loadings and PCs..\n",
      "[pca] >Computing explained variance..\n",
      "[pca] >Number of components is [1] that covers the [95.00%] explained variance.\n",
      "[pca] >Outlier detection using Hotelling T2 test with alpha=[0.50] and n_components=[1]\n",
      "[pca] >Outlier detection using SPE/DmodX with n_std=[2]\n"
     ]
    }
   ],
   "source": [
    "model = pca(alpha=0.5) # alpha = threshold for outliers in t2 test\n",
    "out = model.fit_transform(vals)"
   ]
  },
  {
   "cell_type": "code",
   "execution_count": 76,
   "metadata": {},
   "outputs": [],
   "source": [
    "import matplotlib.pyplot as plt"
   ]
  },
  {
   "cell_type": "code",
   "execution_count": 77,
   "metadata": {},
   "outputs": [
    {
     "data": {
      "text/plain": [
       "[<matplotlib.lines.Line2D at 0x2019038ba00>]"
      ]
     },
     "execution_count": 77,
     "metadata": {},
     "output_type": "execute_result"
    },
    {
     "data": {
      "image/png": "[encoded data removed]",
      "text/plain": [
       "<Figure size 432x288 with 1 Axes>"
      ]
     },
     "metadata": {
      "needs_background": "light"
     },
     "output_type": "display_data"
    }
   ],
   "source": [
    "plt.plot(out['outliers']['y_score'].values)"
   ]
  },
  {
   "cell_type": "code",
   "execution_count": null,
   "metadata": {},
   "outputs": [],
   "source": []
  }
 ],
 "metadata": {
  "interpreter": {
   "hash": "ac59ebe37160ed0dfa835113d9b8498d9f09ceb179beaac4002f036b9467c963"
  },
  "kernelspec": {
   "display_name": "Python 3.9.2 64-bit",
   "name": "python3"
  },
  "language_info": {
   "codemirror_mode": {
    "name": "ipython",
    "version": 3
   },
   "file_extension": ".py",
   "mimetype": "text/x-python",
   "name": "python",
   "nbconvert_exporter": "python",
   "pygments_lexer": "ipython3",
   "version": "3.9.2"
  },
  "orig_nbformat": 4
 },
 "nbformat": 4,
 "nbformat_minor": 2
}
