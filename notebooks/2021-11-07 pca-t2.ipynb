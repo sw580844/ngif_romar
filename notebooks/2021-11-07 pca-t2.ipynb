{
 "cells": [
  {
   "cell_type": "markdown",
   "metadata": {},
   "source": [
    "Library:\n",
    "https://pypi.org/project/pca/"
   ]
  },
  {
   "cell_type": "code",
   "execution_count": 51,
   "metadata": {},
   "outputs": [],
   "source": [
    "import sys\n",
    "import os\n",
    "import importlib # Used during testing if I need to reload modules\n",
    "\n",
    "import matplotlib.pyplot as plt\n",
    "import numpy as np\n",
    "import cv2\n",
    "import scipy.stats\n",
    "import scipy.signal\n",
    "import pandas as pd"
   ]
  },
  {
   "cell_type": "code",
   "execution_count": 52,
   "metadata": {},
   "outputs": [],
   "source": [
    "try:\n",
    "    import ngif_romar.tools as tools\n",
    "    import ngif_romar.plots.make_plots as plots\n",
    "    import ngif_romar.plots.plots_tools as plots_tools\n",
    "except ModuleNotFoundError as error:\n",
    "    # If not in path/installed, use relative import\n",
    "    module_path = os.path.abspath(os.path.join(\"..\"))\n",
    "    sys.path.append(module_path)\n",
    "    import ngif_romar.tools as tools\n",
    "#    import ngif_romar.plots.make_plots as plots\n",
    "#    import ngif_romar.plots.plots_tools as plots_tools"
   ]
  },
  {
   "cell_type": "code",
   "execution_count": 66,
   "metadata": {},
   "outputs": [],
   "source": [
    "dataset_path = os.path.join(\"..\", \"data\", \"SN2\", \"20201001_1739_\")\n",
    "logfile_path = os.path.join(dataset_path, \"Data.dat\")\n",
    "meta_dict, data_df = tools.read_data(logfile_path)\n",
    "data_df = tools.post_process_log_data(data_df)"
   ]
  },
  {
   "cell_type": "code",
   "execution_count": 56,
   "metadata": {},
   "outputs": [
    {
     "name": "stdout",
     "output_type": "stream",
     "text": [
      "11193\n"
     ]
    }
   ],
   "source": [
    "from pca import pca\n",
    "import numpy as np\n",
    "data_df_filtered = data_df[\n",
    "    data_df['laser_on_time(ms)'] > 200\n",
    "]\n",
    "print(len(data_df_filtered))\n",
    "vals = data_df_filtered[['meltpoolSize','meltpoolTemp','flowWatch','protectionGlasTemperature']] \n",
    "# columns are meltpoolSize, meltpoolTemp, flowWatch, glasTemp"
   ]
  },
  {
   "cell_type": "code",
   "execution_count": 57,
   "metadata": {},
   "outputs": [
    {
     "name": "stdout",
     "output_type": "stream",
     "text": [
      "[pca] >Processing dataframe..\n",
      "[pca] >The PCA reduction is performed on the [4] columns of the input dataframe.\n",
      "[pca] >Fitting using PCA..\n",
      "[pca] >Computing loadings and PCs..\n",
      "[pca] >Computing explained variance..\n",
      "[pca] >Outlier detection using Hotelling T2 test with alpha=[0.50] and n_components=[2]\n",
      "[pca] >Outlier detection using SPE/DmodX with n_std=[2]\n"
     ]
    }
   ],
   "source": [
    "model = pca(alpha=0.5,n_components=2) # alpha = threshold for outliers in t2 test\n",
    "out = model.fit_transform(vals)"
   ]
  },
  {
   "cell_type": "code",
   "execution_count": 58,
   "metadata": {},
   "outputs": [
    {
     "data": {
      "text/plain": [
       "Text(0.5, 1.0, 'Hotelling t2 ')"
      ]
     },
     "execution_count": 58,
     "metadata": {},
     "output_type": "execute_result"
    },
    {
     "data": {
      "image/png": "[encoded data removed]",
      "text/plain": [
       "<Figure size 432x288 with 1 Axes>"
      ]
     },
     "metadata": {
      "needs_background": "light"
     },
     "output_type": "display_data"
    }
   ],
   "source": [
    "plt.plot(out['outliers']['y_score'].values)\n",
    "plt.title('Hotelling t2 ')"
   ]
  },
  {
   "cell_type": "code",
   "execution_count": 59,
   "metadata": {},
   "outputs": [
    {
     "data": {
      "text/plain": [
       "Index(['t', 'x', 'y', 'z', 'a', 'c', 'meltpoolSize', 'meltpoolTemp',\n",
       "       'LaserPower', 'stirrerValue_1', 'revolutionSpeed_1', 'powderGasFlow_1',\n",
       "       'stirrerValue_2', 'revolutionSpeed_2', 'powderGasFlow_2', 'flowWatch',\n",
       "       'meltpoolThreshold', 'protectionGlasTemperature', 't(s)', 't(min)',\n",
       "       'v_x(mm/ms)', 'v_y(mm/ms)', 'v_z(mm/ms)', '|v|(mm/ms)', 'phi(rad)',\n",
       "       'r(mm)', 'phi_dot(rad/ms)', 'laser_on_time(ms)', 'laser_off_time(ms)',\n",
       "       'xpart', 'ypart', 'zpart', 'toolpath_key'],\n",
       "      dtype='object')"
      ]
     },
     "execution_count": 59,
     "metadata": {},
     "output_type": "execute_result"
    }
   ],
   "source": [
    "data_df_filtered.columns"
   ]
  },
  {
   "cell_type": "markdown",
   "metadata": {},
   "source": [
    "## Very noisy. If we do the same but pass a rolling window over it beforehand:"
   ]
  },
  {
   "cell_type": "code",
   "execution_count": 60,
   "metadata": {},
   "outputs": [
    {
     "name": "stderr",
     "output_type": "stream",
     "text": [
      "C:\\Users\\uqthirsc\\AppData\\Local\\Temp/ipykernel_13336/467912176.py:4: SettingWithCopyWarning: \n",
      "A value is trying to be set on a copy of a slice from a DataFrame.\n",
      "Try using .loc[row_indexer,col_indexer] = value instead\n",
      "\n",
      "See the caveats in the documentation: https://pandas.pydata.org/pandas-docs/stable/user_guide/indexing.html#returning-a-view-versus-a-copy\n",
      "  vals2[c] = vals2[c].rolling(10,min_periods=1).mean()\n"
     ]
    }
   ],
   "source": [
    "vals2 = data_df_filtered[['t(s)','t(min)','meltpoolSize','meltpoolTemp','flowWatch','protectionGlasTemperature']]\n",
    "columns=['meltpoolSize','meltpoolTemp','flowWatch','protectionGlasTemperature']\n",
    "for c in columns:\n",
    "    vals2[c] = vals2[c].rolling(10,min_periods=1).mean()\n"
   ]
  },
  {
   "cell_type": "code",
   "execution_count": 61,
   "metadata": {},
   "outputs": [
    {
     "name": "stdout",
     "output_type": "stream",
     "text": [
      "[pca] >Cleaning previous fitted model results..\n",
      "[pca] >Processing dataframe..\n",
      "[pca] >The PCA reduction is performed on the [4] columns of the input dataframe.\n",
      "[pca] >Fitting using PCA..\n",
      "[pca] >Computing loadings and PCs..\n",
      "[pca] >Computing explained variance..\n",
      "[pca] >Outlier detection using Hotelling T2 test with alpha=[0.50] and n_components=[2]\n",
      "[pca] >Outlier detection using SPE/DmodX with n_std=[2]\n"
     ]
    }
   ],
   "source": [
    "model2 = pca(alpha=0.5,n_components=1) # alpha = threshold for outliers in t2 test\n",
    "out2 = model.fit_transform(vals2[columns])"
   ]
  },
  {
   "cell_type": "markdown",
   "metadata": {},
   "source": [
    "# Here is an example of the sort of plot we could do:"
   ]
  },
  {
   "cell_type": "code",
   "execution_count": 62,
   "metadata": {},
   "outputs": [
    {
     "data": {
      "text/html": [
       "<div>\n",
       "<style scoped>\n",
       "    .dataframe tbody tr th:only-of-type {\n",
       "        vertical-align: middle;\n",
       "    }\n",
       "\n",
       "    .dataframe tbody tr th {\n",
       "        vertical-align: top;\n",
       "    }\n",
       "\n",
       "    .dataframe thead th {\n",
       "        text-align: right;\n",
       "    }\n",
       "</style>\n",
       "<table border=\"1\" class=\"dataframe\">\n",
       "  <thead>\n",
       "    <tr style=\"text-align: right;\">\n",
       "      <th></th>\n",
       "      <th>y_proba</th>\n",
       "      <th>y_score</th>\n",
       "      <th>y_bool</th>\n",
       "      <th>y_bool_spe</th>\n",
       "      <th>y_score_spe</th>\n",
       "    </tr>\n",
       "  </thead>\n",
       "  <tbody>\n",
       "    <tr>\n",
       "      <th>3</th>\n",
       "      <td>0.000018</td>\n",
       "      <td>27.226977</td>\n",
       "      <td>True</td>\n",
       "      <td>True</td>\n",
       "      <td>1936.937831</td>\n",
       "    </tr>\n",
       "    <tr>\n",
       "      <th>4</th>\n",
       "      <td>0.000024</td>\n",
       "      <td>26.608480</td>\n",
       "      <td>True</td>\n",
       "      <td>True</td>\n",
       "      <td>1907.719661</td>\n",
       "    </tr>\n",
       "    <tr>\n",
       "      <th>5</th>\n",
       "      <td>0.000008</td>\n",
       "      <td>29.076714</td>\n",
       "      <td>True</td>\n",
       "      <td>True</td>\n",
       "      <td>2004.501851</td>\n",
       "    </tr>\n",
       "    <tr>\n",
       "      <th>6</th>\n",
       "      <td>0.000012</td>\n",
       "      <td>28.046067</td>\n",
       "      <td>True</td>\n",
       "      <td>True</td>\n",
       "      <td>1963.397843</td>\n",
       "    </tr>\n",
       "    <tr>\n",
       "      <th>7</th>\n",
       "      <td>0.000026</td>\n",
       "      <td>26.387042</td>\n",
       "      <td>True</td>\n",
       "      <td>True</td>\n",
       "      <td>1896.200762</td>\n",
       "    </tr>\n",
       "    <tr>\n",
       "      <th>...</th>\n",
       "      <td>...</td>\n",
       "      <td>...</td>\n",
       "      <td>...</td>\n",
       "      <td>...</td>\n",
       "      <td>...</td>\n",
       "    </tr>\n",
       "    <tr>\n",
       "      <th>12754</th>\n",
       "      <td>0.796111</td>\n",
       "      <td>1.670267</td>\n",
       "      <td>False</td>\n",
       "      <td>False</td>\n",
       "      <td>303.619545</td>\n",
       "    </tr>\n",
       "    <tr>\n",
       "      <th>12755</th>\n",
       "      <td>0.776414</td>\n",
       "      <td>1.778497</td>\n",
       "      <td>False</td>\n",
       "      <td>False</td>\n",
       "      <td>320.135671</td>\n",
       "    </tr>\n",
       "    <tr>\n",
       "      <th>12756</th>\n",
       "      <td>0.711567</td>\n",
       "      <td>2.131611</td>\n",
       "      <td>False</td>\n",
       "      <td>False</td>\n",
       "      <td>370.618528</td>\n",
       "    </tr>\n",
       "    <tr>\n",
       "      <th>12757</th>\n",
       "      <td>0.699232</td>\n",
       "      <td>2.198895</td>\n",
       "      <td>False</td>\n",
       "      <td>False</td>\n",
       "      <td>380.190134</td>\n",
       "    </tr>\n",
       "    <tr>\n",
       "      <th>12758</th>\n",
       "      <td>0.685346</td>\n",
       "      <td>2.274881</td>\n",
       "      <td>False</td>\n",
       "      <td>False</td>\n",
       "      <td>390.808884</td>\n",
       "    </tr>\n",
       "  </tbody>\n",
       "</table>\n",
       "<p>11193 rows × 5 columns</p>\n",
       "</div>"
      ],
      "text/plain": [
       "        y_proba    y_score  y_bool  y_bool_spe  y_score_spe\n",
       "3      0.000018  27.226977    True        True  1936.937831\n",
       "4      0.000024  26.608480    True        True  1907.719661\n",
       "5      0.000008  29.076714    True        True  2004.501851\n",
       "6      0.000012  28.046067    True        True  1963.397843\n",
       "7      0.000026  26.387042    True        True  1896.200762\n",
       "...         ...        ...     ...         ...          ...\n",
       "12754  0.796111   1.670267   False       False   303.619545\n",
       "12755  0.776414   1.778497   False       False   320.135671\n",
       "12756  0.711567   2.131611   False       False   370.618528\n",
       "12757  0.699232   2.198895   False       False   380.190134\n",
       "12758  0.685346   2.274881   False       False   390.808884\n",
       "\n",
       "[11193 rows x 5 columns]"
      ]
     },
     "execution_count": 62,
     "metadata": {},
     "output_type": "execute_result"
    }
   ],
   "source": [
    "out2['outliers']"
   ]
  },
  {
   "cell_type": "code",
   "execution_count": 63,
   "metadata": {},
   "outputs": [
    {
     "data": {
      "text/plain": [
       "<matplotlib.legend.Legend at 0x25fbfccb040>"
      ]
     },
     "execution_count": 63,
     "metadata": {},
     "output_type": "execute_result"
    },
    {
     "data": {
      "image/png": "[encoded data removed]",
      "text/plain": [
       "<Figure size 432x288 with 1 Axes>"
      ]
     },
     "metadata": {
      "needs_background": "light"
     },
     "output_type": "display_data"
    }
   ],
   "source": [
    "plt.plot(vals2['t(min)'],out2['outliers']['y_score'].values)\n",
    "plt.title('Hotelling t2 ')\n",
    "#plt.axhline([10], color='r', linestyle='dashed') # arbitrary cutoff at 10\n",
    "plt.ylabel('Hotelling $t^2$ score')\n",
    "plt.xlabel('t (min)')\n",
    "plt.legend(['Data','Threshold'])"
   ]
  },
  {
   "cell_type": "code",
   "execution_count": 65,
   "metadata": {},
   "outputs": [
    {
     "data": {
      "text/plain": [
       "Index(['t', 'x', 'y', 'z', 'a', 'c', 'meltpoolSize', 'meltpoolTemp',\n",
       "       'LaserPower', 'stirrerValue_1', 'revolutionSpeed_1', 'powderGasFlow_1',\n",
       "       'stirrerValue_2', 'revolutionSpeed_2', 'powderGasFlow_2', 'flowWatch',\n",
       "       'meltpoolThreshold', 'protectionGlasTemperature', 't(s)', 't(min)',\n",
       "       'v_x(mm/ms)', 'v_y(mm/ms)', 'v_z(mm/ms)', '|v|(mm/ms)', 'phi(rad)',\n",
       "       'r(mm)', 'phi_dot(rad/ms)', 'laser_on_time(ms)', 'laser_off_time(ms)',\n",
       "       'xpart', 'ypart', 'zpart', 'toolpath_key'],\n",
       "      dtype='object')"
      ]
     },
     "execution_count": 65,
     "metadata": {},
     "output_type": "execute_result"
    }
   ],
   "source": [
    "data_df.columns"
   ]
  },
  {
   "cell_type": "code",
   "execution_count": 64,
   "metadata": {},
   "outputs": [
    {
     "ename": "KeyError",
     "evalue": "'t2'",
     "output_type": "error",
     "traceback": [
      "\u001b[1;31m---------------------------------------------------------------------------\u001b[0m",
      "\u001b[1;31mKeyError\u001b[0m                                  Traceback (most recent call last)",
      "\u001b[1;32m~\\AppData\\Local\\Programs\\Python\\Python39\\lib\\site-packages\\pandas\\core\\indexes\\base.py\u001b[0m in \u001b[0;36mget_loc\u001b[1;34m(self, key, method, tolerance)\u001b[0m\n\u001b[0;32m   3360\u001b[0m             \u001b[1;32mtry\u001b[0m\u001b[1;33m:\u001b[0m\u001b[1;33m\u001b[0m\u001b[1;33m\u001b[0m\u001b[0m\n\u001b[1;32m-> 3361\u001b[1;33m                 \u001b[1;32mreturn\u001b[0m \u001b[0mself\u001b[0m\u001b[1;33m.\u001b[0m\u001b[0m_engine\u001b[0m\u001b[1;33m.\u001b[0m\u001b[0mget_loc\u001b[0m\u001b[1;33m(\u001b[0m\u001b[0mcasted_key\u001b[0m\u001b[1;33m)\u001b[0m\u001b[1;33m\u001b[0m\u001b[1;33m\u001b[0m\u001b[0m\n\u001b[0m\u001b[0;32m   3362\u001b[0m             \u001b[1;32mexcept\u001b[0m \u001b[0mKeyError\u001b[0m \u001b[1;32mas\u001b[0m \u001b[0merr\u001b[0m\u001b[1;33m:\u001b[0m\u001b[1;33m\u001b[0m\u001b[1;33m\u001b[0m\u001b[0m\n",
      "\u001b[1;32m~\\AppData\\Local\\Programs\\Python\\Python39\\lib\\site-packages\\pandas\\_libs\\index.pyx\u001b[0m in \u001b[0;36mpandas._libs.index.IndexEngine.get_loc\u001b[1;34m()\u001b[0m\n",
      "\u001b[1;32m~\\AppData\\Local\\Programs\\Python\\Python39\\lib\\site-packages\\pandas\\_libs\\index.pyx\u001b[0m in \u001b[0;36mpandas._libs.index.IndexEngine.get_loc\u001b[1;34m()\u001b[0m\n",
      "\u001b[1;32mpandas\\_libs\\hashtable_class_helper.pxi\u001b[0m in \u001b[0;36mpandas._libs.hashtable.PyObjectHashTable.get_item\u001b[1;34m()\u001b[0m\n",
      "\u001b[1;32mpandas\\_libs\\hashtable_class_helper.pxi\u001b[0m in \u001b[0;36mpandas._libs.hashtable.PyObjectHashTable.get_item\u001b[1;34m()\u001b[0m\n",
      "\u001b[1;31mKeyError\u001b[0m: 't2'",
      "\nThe above exception was the direct cause of the following exception:\n",
      "\u001b[1;31mKeyError\u001b[0m                                  Traceback (most recent call last)",
      "\u001b[1;32m~\\AppData\\Local\\Temp/ipykernel_13336/114603793.py\u001b[0m in \u001b[0;36m<module>\u001b[1;34m\u001b[0m\n\u001b[1;32m----> 1\u001b[1;33m \u001b[0mplt\u001b[0m\u001b[1;33m.\u001b[0m\u001b[0mplot\u001b[0m\u001b[1;33m(\u001b[0m\u001b[0mdata_df_filtered\u001b[0m\u001b[1;33m[\u001b[0m\u001b[1;34m't(min)'\u001b[0m\u001b[1;33m]\u001b[0m\u001b[1;33m,\u001b[0m \u001b[0mdata_df_filtered\u001b[0m\u001b[1;33m[\u001b[0m\u001b[1;34m't2'\u001b[0m\u001b[1;33m]\u001b[0m\u001b[1;33m)\u001b[0m\u001b[1;33m\u001b[0m\u001b[1;33m\u001b[0m\u001b[0m\n\u001b[0m",
      "\u001b[1;32m~\\AppData\\Local\\Programs\\Python\\Python39\\lib\\site-packages\\pandas\\core\\frame.py\u001b[0m in \u001b[0;36m__getitem__\u001b[1;34m(self, key)\u001b[0m\n\u001b[0;32m   3456\u001b[0m             \u001b[1;32mif\u001b[0m \u001b[0mself\u001b[0m\u001b[1;33m.\u001b[0m\u001b[0mcolumns\u001b[0m\u001b[1;33m.\u001b[0m\u001b[0mnlevels\u001b[0m \u001b[1;33m>\u001b[0m \u001b[1;36m1\u001b[0m\u001b[1;33m:\u001b[0m\u001b[1;33m\u001b[0m\u001b[1;33m\u001b[0m\u001b[0m\n\u001b[0;32m   3457\u001b[0m                 \u001b[1;32mreturn\u001b[0m \u001b[0mself\u001b[0m\u001b[1;33m.\u001b[0m\u001b[0m_getitem_multilevel\u001b[0m\u001b[1;33m(\u001b[0m\u001b[0mkey\u001b[0m\u001b[1;33m)\u001b[0m\u001b[1;33m\u001b[0m\u001b[1;33m\u001b[0m\u001b[0m\n\u001b[1;32m-> 3458\u001b[1;33m             \u001b[0mindexer\u001b[0m \u001b[1;33m=\u001b[0m \u001b[0mself\u001b[0m\u001b[1;33m.\u001b[0m\u001b[0mcolumns\u001b[0m\u001b[1;33m.\u001b[0m\u001b[0mget_loc\u001b[0m\u001b[1;33m(\u001b[0m\u001b[0mkey\u001b[0m\u001b[1;33m)\u001b[0m\u001b[1;33m\u001b[0m\u001b[1;33m\u001b[0m\u001b[0m\n\u001b[0m\u001b[0;32m   3459\u001b[0m             \u001b[1;32mif\u001b[0m \u001b[0mis_integer\u001b[0m\u001b[1;33m(\u001b[0m\u001b[0mindexer\u001b[0m\u001b[1;33m)\u001b[0m\u001b[1;33m:\u001b[0m\u001b[1;33m\u001b[0m\u001b[1;33m\u001b[0m\u001b[0m\n\u001b[0;32m   3460\u001b[0m                 \u001b[0mindexer\u001b[0m \u001b[1;33m=\u001b[0m \u001b[1;33m[\u001b[0m\u001b[0mindexer\u001b[0m\u001b[1;33m]\u001b[0m\u001b[1;33m\u001b[0m\u001b[1;33m\u001b[0m\u001b[0m\n",
      "\u001b[1;32m~\\AppData\\Local\\Programs\\Python\\Python39\\lib\\site-packages\\pandas\\core\\indexes\\base.py\u001b[0m in \u001b[0;36mget_loc\u001b[1;34m(self, key, method, tolerance)\u001b[0m\n\u001b[0;32m   3361\u001b[0m                 \u001b[1;32mreturn\u001b[0m \u001b[0mself\u001b[0m\u001b[1;33m.\u001b[0m\u001b[0m_engine\u001b[0m\u001b[1;33m.\u001b[0m\u001b[0mget_loc\u001b[0m\u001b[1;33m(\u001b[0m\u001b[0mcasted_key\u001b[0m\u001b[1;33m)\u001b[0m\u001b[1;33m\u001b[0m\u001b[1;33m\u001b[0m\u001b[0m\n\u001b[0;32m   3362\u001b[0m             \u001b[1;32mexcept\u001b[0m \u001b[0mKeyError\u001b[0m \u001b[1;32mas\u001b[0m \u001b[0merr\u001b[0m\u001b[1;33m:\u001b[0m\u001b[1;33m\u001b[0m\u001b[1;33m\u001b[0m\u001b[0m\n\u001b[1;32m-> 3363\u001b[1;33m                 \u001b[1;32mraise\u001b[0m \u001b[0mKeyError\u001b[0m\u001b[1;33m(\u001b[0m\u001b[0mkey\u001b[0m\u001b[1;33m)\u001b[0m \u001b[1;32mfrom\u001b[0m \u001b[0merr\u001b[0m\u001b[1;33m\u001b[0m\u001b[1;33m\u001b[0m\u001b[0m\n\u001b[0m\u001b[0;32m   3364\u001b[0m \u001b[1;33m\u001b[0m\u001b[0m\n\u001b[0;32m   3365\u001b[0m         \u001b[1;32mif\u001b[0m \u001b[0mis_scalar\u001b[0m\u001b[1;33m(\u001b[0m\u001b[0mkey\u001b[0m\u001b[1;33m)\u001b[0m \u001b[1;32mand\u001b[0m \u001b[0misna\u001b[0m\u001b[1;33m(\u001b[0m\u001b[0mkey\u001b[0m\u001b[1;33m)\u001b[0m \u001b[1;32mand\u001b[0m \u001b[1;32mnot\u001b[0m \u001b[0mself\u001b[0m\u001b[1;33m.\u001b[0m\u001b[0mhasnans\u001b[0m\u001b[1;33m:\u001b[0m\u001b[1;33m\u001b[0m\u001b[1;33m\u001b[0m\u001b[0m\n",
      "\u001b[1;31mKeyError\u001b[0m: 't2'"
     ]
    }
   ],
   "source": [
    "plt.plot(data_df_filtered['t(min)'], data_df_filtered['t2'])"
   ]
  },
  {
   "cell_type": "code",
   "execution_count": null,
   "metadata": {},
   "outputs": [],
   "source": []
  }
 ],
 "metadata": {
  "interpreter": {
   "hash": "0c27335b1e0378b804b5250fb9a94a1d6a0a86cb82679bf952dfed3b91a30f56"
  },
  "kernelspec": {
   "display_name": "Python 3.9.7 64-bit",
   "name": "python3"
  },
  "language_info": {
   "codemirror_mode": {
    "name": "ipython",
    "version": 3
   },
   "file_extension": ".py",
   "mimetype": "text/x-python",
   "name": "python",
   "nbconvert_exporter": "python",
   "pygments_lexer": "ipython3",
   "version": "3.9.7"
  },
  "orig_nbformat": 4
 },
 "nbformat": 4,
 "nbformat_minor": 2
}
