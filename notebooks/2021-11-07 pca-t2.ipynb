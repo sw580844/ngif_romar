{
 "cells": [
  {
   "cell_type": "code",
   "execution_count": 94,
   "metadata": {},
   "outputs": [],
   "source": [
    "import sys\n",
    "import os\n",
    "import importlib # Used during testing if I need to reload modules\n",
    "\n",
    "import matplotlib.pyplot as plt\n",
    "import numpy as np\n",
    "import cv2\n",
    "import scipy.stats\n",
    "import scipy.signal\n",
    "import pandas as pd"
   ]
  },
  {
   "cell_type": "code",
   "execution_count": 95,
   "metadata": {},
   "outputs": [],
   "source": [
    "try:\n",
    "    import ngif_romar.tools as tools\n",
    "    import ngif_romar.plots.make_plots as plots\n",
    "    import ngif_romar.plots.plots_tools as plots_tools\n",
    "except ModuleNotFoundError as error:\n",
    "    # If not in path/installed, use relative import\n",
    "    module_path = os.path.abspath(os.path.join(\".\"))\n",
    "    sys.path.append(module_path)\n",
    "    import ngif_romar.tools as tools\n",
    "#    import ngif_romar.plots.make_plots as plots\n",
    "#    import ngif_romar.plots.plots_tools as plots_tools"
   ]
  },
  {
   "cell_type": "code",
   "execution_count": 96,
   "metadata": {},
   "outputs": [],
   "source": [
    "dataset_path = os.path.join(\"..\", \"data\", \"SN2\", \"20201001_1739_\")\n",
    "logfile_path = os.path.join(dataset_path, \"Data.dat\")\n",
    "meta_dict, data_df = tools.read_data(logfile_path)\n",
    "data_df = tools.post_process_log_data(data_df)"
   ]
  },
  {
   "cell_type": "code",
   "execution_count": null,
   "metadata": {},
   "outputs": [
    {
     "data": {
      "text/plain": [
       "<matplotlib.lines.Line2D at 0x2019156be50>"
      ]
     },
     "execution_count": 83,
     "metadata": {},
     "output_type": "execute_result"
    },
    {
     "data": {
      "image/png": "[encoded data removed]",
      "text/plain": [
       "<Figure size 432x288 with 1 Axes>"
      ]
     },
     "metadata": {
      "needs_background": "light"
     },
     "output_type": "display_data"
    }
   ],
   "source": [
    "plt.plot(data_df['laser_on_time(ms)'])\n",
    "plt.ylim([0,200])\n",
    "plt.axhline(200)"
   ]
  },
  {
   "cell_type": "code",
   "execution_count": null,
   "metadata": {},
   "outputs": [
    {
     "data": {
      "text/plain": [
       "11193"
      ]
     },
     "execution_count": 85,
     "metadata": {},
     "output_type": "execute_result"
    },
    {
     "data": {
      "image/png": "[encoded data removed]",
      "text/plain": [
       "<Figure size 432x288 with 1 Axes>"
      ]
     },
     "metadata": {
      "needs_background": "light"
     },
     "output_type": "display_data"
    }
   ],
   "source": [
    "plt.plot(data_df['laser_on_time(ms)'] > 200)\n",
    "np.count_nonzero(data_df['laser_on_time(ms)'] > 200)"
   ]
  },
  {
   "cell_type": "code",
   "execution_count": null,
   "metadata": {},
   "outputs": [
    {
     "name": "stdout",
     "output_type": "stream",
     "text": [
      "11193\n"
     ]
    }
   ],
   "source": [
    "from pca import pca\n",
    "import numpy as np\n",
    "data_df_filtered = data_df[\n",
    "    data_df['laser_on_time(ms)'] > 200\n",
    "]\n",
    "print(len(data_df_filtered))\n",
    "vals = data_df_filtered[['meltpoolSize','meltpoolTemp','flowWatch','protectionGlasTemperature']] # transpose to get column form\n",
    "# columns are meltpoolSize, ..Temp, flowWatch, glasTemp"
   ]
  },
  {
   "cell_type": "code",
   "execution_count": null,
   "metadata": {},
   "outputs": [
    {
     "data": {
      "text/html": [
       "<div>\n",
       "<style scoped>\n",
       "    .dataframe tbody tr th:only-of-type {\n",
       "        vertical-align: middle;\n",
       "    }\n",
       "\n",
       "    .dataframe tbody tr th {\n",
       "        vertical-align: top;\n",
       "    }\n",
       "\n",
       "    .dataframe thead th {\n",
       "        text-align: right;\n",
       "    }\n",
       "</style>\n",
       "<table border=\"1\" class=\"dataframe\">\n",
       "  <thead>\n",
       "    <tr style=\"text-align: right;\">\n",
       "      <th></th>\n",
       "      <th>meltpoolSize</th>\n",
       "      <th>meltpoolTemp</th>\n",
       "      <th>flowWatch</th>\n",
       "      <th>protectionGlasTemperature</th>\n",
       "    </tr>\n",
       "  </thead>\n",
       "  <tbody>\n",
       "    <tr>\n",
       "      <th>3</th>\n",
       "      <td>7931</td>\n",
       "      <td>1712.0</td>\n",
       "      <td>2860</td>\n",
       "      <td>18.6</td>\n",
       "    </tr>\n",
       "    <tr>\n",
       "      <th>4</th>\n",
       "      <td>7993</td>\n",
       "      <td>1714.0</td>\n",
       "      <td>2920</td>\n",
       "      <td>18.6</td>\n",
       "    </tr>\n",
       "    <tr>\n",
       "      <th>5</th>\n",
       "      <td>7673</td>\n",
       "      <td>1710.0</td>\n",
       "      <td>2920</td>\n",
       "      <td>18.6</td>\n",
       "    </tr>\n",
       "    <tr>\n",
       "      <th>6</th>\n",
       "      <td>8032</td>\n",
       "      <td>1710.0</td>\n",
       "      <td>2920</td>\n",
       "      <td>18.6</td>\n",
       "    </tr>\n",
       "    <tr>\n",
       "      <th>7</th>\n",
       "      <td>8245</td>\n",
       "      <td>1727.0</td>\n",
       "      <td>2920</td>\n",
       "      <td>18.6</td>\n",
       "    </tr>\n",
       "    <tr>\n",
       "      <th>...</th>\n",
       "      <td>...</td>\n",
       "      <td>...</td>\n",
       "      <td>...</td>\n",
       "      <td>...</td>\n",
       "    </tr>\n",
       "    <tr>\n",
       "      <th>12754</th>\n",
       "      <td>9621</td>\n",
       "      <td>1746.0</td>\n",
       "      <td>2752</td>\n",
       "      <td>39.0</td>\n",
       "    </tr>\n",
       "    <tr>\n",
       "      <th>12755</th>\n",
       "      <td>9436</td>\n",
       "      <td>1754.0</td>\n",
       "      <td>2752</td>\n",
       "      <td>39.0</td>\n",
       "    </tr>\n",
       "    <tr>\n",
       "      <th>12756</th>\n",
       "      <td>9548</td>\n",
       "      <td>1738.0</td>\n",
       "      <td>2752</td>\n",
       "      <td>39.0</td>\n",
       "    </tr>\n",
       "    <tr>\n",
       "      <th>12757</th>\n",
       "      <td>9493</td>\n",
       "      <td>1724.0</td>\n",
       "      <td>2752</td>\n",
       "      <td>39.0</td>\n",
       "    </tr>\n",
       "    <tr>\n",
       "      <th>12758</th>\n",
       "      <td>9529</td>\n",
       "      <td>1722.0</td>\n",
       "      <td>2752</td>\n",
       "      <td>39.0</td>\n",
       "    </tr>\n",
       "  </tbody>\n",
       "</table>\n",
       "<p>11193 rows × 4 columns</p>\n",
       "</div>"
      ],
      "text/plain": [
       "       meltpoolSize  meltpoolTemp  flowWatch  protectionGlasTemperature\n",
       "3              7931        1712.0       2860                       18.6\n",
       "4              7993        1714.0       2920                       18.6\n",
       "5              7673        1710.0       2920                       18.6\n",
       "6              8032        1710.0       2920                       18.6\n",
       "7              8245        1727.0       2920                       18.6\n",
       "...             ...           ...        ...                        ...\n",
       "12754          9621        1746.0       2752                       39.0\n",
       "12755          9436        1754.0       2752                       39.0\n",
       "12756          9548        1738.0       2752                       39.0\n",
       "12757          9493        1724.0       2752                       39.0\n",
       "12758          9529        1722.0       2752                       39.0\n",
       "\n",
       "[11193 rows x 4 columns]"
      ]
     },
     "execution_count": 90,
     "metadata": {},
     "output_type": "execute_result"
    }
   ],
   "source": [
    "vals"
   ]
  },
  {
   "cell_type": "code",
   "execution_count": null,
   "metadata": {},
   "outputs": [
    {
     "name": "stdout",
     "output_type": "stream",
     "text": [
      "[pca] >Processing dataframe..\n",
      "[pca] >The PCA reduction is performed to capture [95.0%] explained variance using the [4] columns of the input data.\n",
      "[pca] >Fitting using PCA..\n",
      "[pca] >Computing loadings and PCs..\n",
      "[pca] >Computing explained variance..\n",
      "[pca] >Number of components is [1] that covers the [95.00%] explained variance.\n",
      "[pca] >Outlier detection using Hotelling T2 test with alpha=[0.50] and n_components=[1]\n",
      "[pca] >Outlier detection using SPE/DmodX with n_std=[2]\n"
     ]
    }
   ],
   "source": [
    "model = pca(alpha=0.5) # alpha = threshold for outliers in t2 test\n",
    "out = model.fit_transform(vals)"
   ]
  },
  {
   "cell_type": "code",
   "execution_count": null,
   "metadata": {},
   "outputs": [
    {
     "data": {
      "text/plain": [
       "[<matplotlib.lines.Line2D at 0x20191e0cbe0>]"
      ]
     },
     "execution_count": 93,
     "metadata": {},
     "output_type": "execute_result"
    },
    {
     "data": {
      "image/png": "[encoded data removed]",
      "text/plain": [
       "<Figure size 432x288 with 1 Axes>"
      ]
     },
     "metadata": {
      "needs_background": "light"
     },
     "output_type": "display_data"
    }
   ],
   "source": [
    "plt.plot(out['outliers']['y_score'].values)"
   ]
  }
 ],
 "metadata": {
  "interpreter": {
   "hash": "ac59ebe37160ed0dfa835113d9b8498d9f09ceb179beaac4002f036b9467c963"
  },
  "kernelspec": {
   "display_name": "Python 3.9.2 64-bit",
   "name": "python3"
  },
  "language_info": {
   "codemirror_mode": {
    "name": "ipython",
    "version": 3
   },
   "file_extension": ".py",
   "mimetype": "text/x-python",
   "name": "python",
   "nbconvert_exporter": "python",
   "pygments_lexer": "ipython3",
   "version": "3.9.2"
  },
  "orig_nbformat": 4
 },
 "nbformat": 4,
 "nbformat_minor": 2
}
